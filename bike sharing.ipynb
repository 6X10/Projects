{
 "cells": [
  {
   "cell_type": "code",
   "execution_count": 2,
   "id": "646547e7",
   "metadata": {},
   "outputs": [],
   "source": [
    "import os\n",
    "\n",
    "import pandas as pd\n",
    "import numpy as np\n",
    "import seaborn as sns\n",
    "import matplotlib.pyplot as plt\n",
    "\n",
    "from sklearn.impute import KNNImputer\n",
    "from sklearn.model_selection import train_test_split\n",
    "\n",
    "from sklearn.metrics import mean_absolute_error\n",
    "from sklearn.model_selection import GridSearchCV\n",
    "from sklearn import linear_model as lm\n",
    "from scipy.stats import uniform, randint"
   ]
  },
  {
   "cell_type": "markdown",
   "id": "9de950b9",
   "metadata": {},
   "source": [
    "# EDA"
   ]
  },
  {
   "cell_type": "markdown",
   "id": "aa7eb60c",
   "metadata": {},
   "source": [
    "## data import"
   ]
  },
  {
   "cell_type": "code",
   "execution_count": 3,
   "id": "57ce21af",
   "metadata": {},
   "outputs": [
    {
     "data": {
      "text/plain": [
       "['서울특별시 공공자전거 이용정보(시간대별)_20.07.csv',\n",
       " '서울특별시 공공자전거 이용정보(시간대별)_20.08.csv',\n",
       " '서울특별시 공공자전거 이용정보(시간대별)_20.09.csv',\n",
       " '서울특별시 공공자전거 이용정보(시간대별)_20.10.csv',\n",
       " '서울특별시 공공자전거 이용정보(시간대별)_20.11.csv',\n",
       " '서울특별시 공공자전거 이용정보(시간대별)_20.12.csv',\n",
       " '서울특별시 공공자전거 이용정보(시간대별)_21.01.csv',\n",
       " '서울특별시 공공자전거 이용정보(시간대별)_21.02.csv',\n",
       " '서울특별시 공공자전거 이용정보(시간대별)_21.03.csv',\n",
       " '서울특별시 공공자전거 이용정보(시간대별)_21.04.csv',\n",
       " '서울특별시 공공자전거 이용정보(시간대별)_21.05.csv',\n",
       " '서울특별시 공공자전거 이용정보(시간대별)_21.06.csv',\n",
       " '서울특별시 공공자전거 이용정보(시간대별)_21.07.csv',\n",
       " '서울특별시 공공자전거 이용정보(시간대별)_21.08.csv',\n",
       " '서울특별시 공공자전거 이용정보(시간대별)_21.09.csv',\n",
       " '서울특별시 공공자전거 이용정보(시간대별)_21.10.csv',\n",
       " '서울특별시 공공자전거 이용정보(시간대별)_21.11.csv',\n",
       " '서울특별시 공공자전거 이용정보(시간대별)_21.12.csv',\n",
       " '서울특별시 공공자전거 이용정보(시간대별)_22.01.csv',\n",
       " '서울특별시 공공자전거 이용정보(시간대별)_22.02.csv',\n",
       " '서울특별시 공공자전거 이용정보(시간대별)_22.03.csv',\n",
       " '서울특별시 공공자전거 이용정보(시간대별)_22.04.csv',\n",
       " '서울특별시 공공자전거 이용정보(시간대별)_22.05.csv',\n",
       " '서울특별시 공공자전거 이용정보(시간대별)_22.06.csv']"
      ]
     },
     "execution_count": 3,
     "metadata": {},
     "output_type": "execute_result"
    }
   ],
   "source": [
    "dirs = os.getcwd() + '/demand/'\n",
    "files = os.listdir(dirs)\n",
    "ac=files[42:]\n",
    "ac"
   ]
  },
  {
   "cell_type": "code",
   "execution_count": 4,
   "id": "d3cc0777",
   "metadata": {},
   "outputs": [],
   "source": [
    "column_types = {\n",
    "    '대여일자': 'datetime64[ns]',\n",
    "    '대여시간': 'int32',\n",
    "    '대여소번호': 'category',\n",
    "    '대여소': 'category',\n",
    "    '대여구분코드': 'category',\n",
    "    '성별': 'category',\n",
    "    '연령대코드': 'category',\n",
    "    '이용건수': 'float32',\n",
    "    '운동량': 'float32',\n",
    "    '탄소량': 'float32',\n",
    "    '이동거리(M)': 'float32',\n",
    "    '이동시간(분)': 'int32',\n",
    "}"
   ]
  },
  {
   "cell_type": "code",
   "execution_count": 5,
   "id": "c26290ee",
   "metadata": {
    "scrolled": true
   },
   "outputs": [
    {
     "name": "stdout",
     "output_type": "stream",
     "text": [
      "1/24 loaded...\n",
      "2/24 loaded...\n",
      "3/24 loaded...\n",
      "4/24 loaded...\n",
      "5/24 loaded...\n",
      "6/24 loaded...\n",
      "7/24 loaded...\n",
      "8/24 loaded...\n",
      "9/24 loaded...\n",
      "10/24 loaded...\n",
      "11/24 loaded...\n",
      "12/24 loaded...\n",
      "13/24 loaded...\n",
      "14/24 loaded...\n",
      "15/24 loaded...\n",
      "16/24 loaded...\n",
      "17/24 loaded...\n",
      "18/24 loaded...\n",
      "19/24 loaded...\n",
      "20/24 loaded...\n",
      "21/24 loaded...\n",
      "22/24 loaded...\n",
      "23/24 loaded...\n",
      "24/24 loaded...\n"
     ]
    }
   ],
   "source": [
    "bike = pd.DataFrame()\n",
    "    \n",
    "total = len(ac)\n",
    "for i, file in enumerate(ac, 1):\n",
    "    print(\"%d/%d loaded...\" %(i, total))\n",
    "\n",
    "    formatter = file.split('.')[2]\n",
    "    if formatter == 'xlsx':\n",
    "        column_types['대여일자'] = 'datetime64[ns]'\n",
    "        data = pd.read_excel(dirs + file, dtype = column_types)\n",
    "    elif formatter == 'csv':\n",
    "        column_types['대여일자'] = object\n",
    "        data = pd.read_csv(dirs+file, dtype=column_types, parse_dates = ['대여일자'], \n",
    "                           encoding='utf-8',na_values=\"\\\\N\")\n",
    "\n",
    "        \n",
    "    bike = pd.concat([bike, data])\n"
   ]
  },
  {
   "cell_type": "code",
   "execution_count": 6,
   "id": "a78d2ab6",
   "metadata": {},
   "outputs": [],
   "source": [
    "#delete redundant column\n",
    "bike.drop([\"대여소명\", '대여구분코드', '성별','연령대코드', '운동량','탄소량','이동거리','사용시간','이동거리(M)','이용시간(분)'],inplace=True, axis=1)"
   ]
  },
  {
   "cell_type": "code",
   "execution_count": 7,
   "id": "96453719",
   "metadata": {},
   "outputs": [
    {
     "name": "stdout",
     "output_type": "stream",
     "text": [
      "대여일자     0\n",
      "대여시간     0\n",
      "대여소번호    0\n",
      "이용건수     1\n",
      "dtype: int64\n"
     ]
    }
   ],
   "source": [
    "#eliminate missing value of target\n",
    "print(bike.isna().sum())\n",
    "bike.dropna(axis=0, inplace=True)"
   ]
  },
  {
   "cell_type": "code",
   "execution_count": 8,
   "id": "e28be238",
   "metadata": {},
   "outputs": [],
   "source": [
    "bike['대여소번호'] = bike['대여소번호'].astype(int)\n",
    "bike['이용건수'] = bike['이용건수'].astype(int)"
   ]
  },
  {
   "cell_type": "code",
   "execution_count": 9,
   "id": "5b759fe2",
   "metadata": {},
   "outputs": [],
   "source": [
    "bike = bike.groupby(['대여일자', '대여시간','대여소번호'], as_index=False).sum()"
   ]
  },
  {
   "cell_type": "code",
   "execution_count": 10,
   "id": "5c0e23c8",
   "metadata": {
    "scrolled": true
   },
   "outputs": [
    {
     "data": {
      "text/html": [
       "<div>\n",
       "<style scoped>\n",
       "    .dataframe tbody tr th:only-of-type {\n",
       "        vertical-align: middle;\n",
       "    }\n",
       "\n",
       "    .dataframe tbody tr th {\n",
       "        vertical-align: top;\n",
       "    }\n",
       "\n",
       "    .dataframe thead th {\n",
       "        text-align: right;\n",
       "    }\n",
       "</style>\n",
       "<table border=\"1\" class=\"dataframe\">\n",
       "  <thead>\n",
       "    <tr style=\"text-align: right;\">\n",
       "      <th></th>\n",
       "      <th>대여일자</th>\n",
       "      <th>대여시간</th>\n",
       "      <th>대여소번호</th>\n",
       "      <th>이용건수</th>\n",
       "    </tr>\n",
       "  </thead>\n",
       "  <tbody>\n",
       "    <tr>\n",
       "      <th>0</th>\n",
       "      <td>2020-03-01</td>\n",
       "      <td>0</td>\n",
       "      <td>102</td>\n",
       "      <td>4</td>\n",
       "    </tr>\n",
       "    <tr>\n",
       "      <th>1</th>\n",
       "      <td>2020-03-01</td>\n",
       "      <td>0</td>\n",
       "      <td>112</td>\n",
       "      <td>1</td>\n",
       "    </tr>\n",
       "    <tr>\n",
       "      <th>2</th>\n",
       "      <td>2020-03-01</td>\n",
       "      <td>0</td>\n",
       "      <td>113</td>\n",
       "      <td>3</td>\n",
       "    </tr>\n",
       "    <tr>\n",
       "      <th>3</th>\n",
       "      <td>2020-03-01</td>\n",
       "      <td>0</td>\n",
       "      <td>114</td>\n",
       "      <td>3</td>\n",
       "    </tr>\n",
       "    <tr>\n",
       "      <th>4</th>\n",
       "      <td>2020-03-01</td>\n",
       "      <td>0</td>\n",
       "      <td>115</td>\n",
       "      <td>1</td>\n",
       "    </tr>\n",
       "    <tr>\n",
       "      <th>...</th>\n",
       "      <td>...</td>\n",
       "      <td>...</td>\n",
       "      <td>...</td>\n",
       "      <td>...</td>\n",
       "    </tr>\n",
       "    <tr>\n",
       "      <th>20138069</th>\n",
       "      <td>2022-06-30</td>\n",
       "      <td>23</td>\n",
       "      <td>5305</td>\n",
       "      <td>1</td>\n",
       "    </tr>\n",
       "    <tr>\n",
       "      <th>20138070</th>\n",
       "      <td>2022-06-30</td>\n",
       "      <td>23</td>\n",
       "      <td>5752</td>\n",
       "      <td>1</td>\n",
       "    </tr>\n",
       "    <tr>\n",
       "      <th>20138071</th>\n",
       "      <td>2022-06-30</td>\n",
       "      <td>23</td>\n",
       "      <td>5853</td>\n",
       "      <td>2</td>\n",
       "    </tr>\n",
       "    <tr>\n",
       "      <th>20138072</th>\n",
       "      <td>2022-06-30</td>\n",
       "      <td>23</td>\n",
       "      <td>5854</td>\n",
       "      <td>1</td>\n",
       "    </tr>\n",
       "    <tr>\n",
       "      <th>20138073</th>\n",
       "      <td>2022-06-30</td>\n",
       "      <td>23</td>\n",
       "      <td>9999</td>\n",
       "      <td>1</td>\n",
       "    </tr>\n",
       "  </tbody>\n",
       "</table>\n",
       "<p>20138074 rows × 4 columns</p>\n",
       "</div>"
      ],
      "text/plain": [
       "               대여일자  대여시간  대여소번호  이용건수\n",
       "0        2020-03-01     0    102     4\n",
       "1        2020-03-01     0    112     1\n",
       "2        2020-03-01     0    113     3\n",
       "3        2020-03-01     0    114     3\n",
       "4        2020-03-01     0    115     1\n",
       "...             ...   ...    ...   ...\n",
       "20138069 2022-06-30    23   5305     1\n",
       "20138070 2022-06-30    23   5752     1\n",
       "20138071 2022-06-30    23   5853     2\n",
       "20138072 2022-06-30    23   5854     1\n",
       "20138073 2022-06-30    23   9999     1\n",
       "\n",
       "[20138074 rows x 4 columns]"
      ]
     },
     "execution_count": 10,
     "metadata": {},
     "output_type": "execute_result"
    }
   ],
   "source": [
    "bike"
   ]
  },
  {
   "cell_type": "code",
   "execution_count": 11,
   "id": "e8c3f751",
   "metadata": {},
   "outputs": [],
   "source": [
    "#bike.to_pickle(\"demand/total.pkl\")"
   ]
  },
  {
   "cell_type": "markdown",
   "id": "b4482ad7",
   "metadata": {},
   "source": [
    "## extract \"서대문구\" with master information"
   ]
  },
  {
   "cell_type": "code",
   "execution_count": 12,
   "id": "31977f2b",
   "metadata": {
    "scrolled": false
   },
   "outputs": [
    {
     "data": {
      "text/html": [
       "<div>\n",
       "<style scoped>\n",
       "    .dataframe tbody tr th:only-of-type {\n",
       "        vertical-align: middle;\n",
       "    }\n",
       "\n",
       "    .dataframe tbody tr th {\n",
       "        vertical-align: top;\n",
       "    }\n",
       "\n",
       "    .dataframe thead th {\n",
       "        text-align: right;\n",
       "    }\n",
       "</style>\n",
       "<table border=\"1\" class=\"dataframe\">\n",
       "  <thead>\n",
       "    <tr style=\"text-align: right;\">\n",
       "      <th></th>\n",
       "      <th>대여소번호</th>\n",
       "      <th>대여소명</th>\n",
       "      <th>자치구</th>\n",
       "      <th>상세주소</th>\n",
       "      <th>위도</th>\n",
       "      <th>경도</th>\n",
       "      <th>설치시기</th>\n",
       "      <th>LCD거치대수</th>\n",
       "      <th>QR거치대수</th>\n",
       "      <th>운영방식</th>\n",
       "    </tr>\n",
       "  </thead>\n",
       "  <tbody>\n",
       "    <tr>\n",
       "      <th>0</th>\n",
       "      <td>102</td>\n",
       "      <td>망원역 1번출구 앞</td>\n",
       "      <td>마포구</td>\n",
       "      <td>서울특별시 마포구 월드컵로 72</td>\n",
       "      <td>37.555649</td>\n",
       "      <td>126.910629</td>\n",
       "      <td>2022-05-03</td>\n",
       "      <td>NaN</td>\n",
       "      <td>15.0</td>\n",
       "      <td>QR</td>\n",
       "    </tr>\n",
       "    <tr>\n",
       "      <th>1</th>\n",
       "      <td>103</td>\n",
       "      <td>망원역 2번출구 앞</td>\n",
       "      <td>마포구</td>\n",
       "      <td>서울특별시 마포구 월드컵로 79</td>\n",
       "      <td>37.554951</td>\n",
       "      <td>126.910835</td>\n",
       "      <td>2022-05-03</td>\n",
       "      <td>NaN</td>\n",
       "      <td>14.0</td>\n",
       "      <td>QR</td>\n",
       "    </tr>\n",
       "    <tr>\n",
       "      <th>2</th>\n",
       "      <td>104</td>\n",
       "      <td>합정역 1번출구 앞</td>\n",
       "      <td>마포구</td>\n",
       "      <td>서울특별시 마포구 양화로 59</td>\n",
       "      <td>37.550629</td>\n",
       "      <td>126.914986</td>\n",
       "      <td>2022-05-12</td>\n",
       "      <td>NaN</td>\n",
       "      <td>13.0</td>\n",
       "      <td>QR</td>\n",
       "    </tr>\n",
       "    <tr>\n",
       "      <th>3</th>\n",
       "      <td>105</td>\n",
       "      <td>합정역 5번출구 앞</td>\n",
       "      <td>마포구</td>\n",
       "      <td>서울특별시 마포구 양화로 48</td>\n",
       "      <td>37.550007</td>\n",
       "      <td>126.914825</td>\n",
       "      <td>2015-09-06</td>\n",
       "      <td>NaN</td>\n",
       "      <td>5.0</td>\n",
       "      <td>QR</td>\n",
       "    </tr>\n",
       "    <tr>\n",
       "      <th>4</th>\n",
       "      <td>106</td>\n",
       "      <td>합정역 7번출구 앞</td>\n",
       "      <td>마포구</td>\n",
       "      <td>서울특별시 마포구 독막로 4</td>\n",
       "      <td>37.548645</td>\n",
       "      <td>126.912826</td>\n",
       "      <td>2022-05-12</td>\n",
       "      <td>NaN</td>\n",
       "      <td>12.0</td>\n",
       "      <td>QR</td>\n",
       "    </tr>\n",
       "  </tbody>\n",
       "</table>\n",
       "</div>"
      ],
      "text/plain": [
       "   대여소번호        대여소명  자치구               상세주소         위도          경도  \\\n",
       "0    102  망원역 1번출구 앞  마포구  서울특별시 마포구 월드컵로 72  37.555649  126.910629   \n",
       "1    103  망원역 2번출구 앞  마포구  서울특별시 마포구 월드컵로 79  37.554951  126.910835   \n",
       "2    104  합정역 1번출구 앞  마포구   서울특별시 마포구 양화로 59  37.550629  126.914986   \n",
       "3    105  합정역 5번출구 앞  마포구   서울특별시 마포구 양화로 48  37.550007  126.914825   \n",
       "4    106  합정역 7번출구 앞  마포구    서울특별시 마포구 독막로 4  37.548645  126.912826   \n",
       "\n",
       "         설치시기   LCD거치대수   QR거치대수  운영방식  \n",
       "0  2022-05-03       NaN     15.0    QR  \n",
       "1  2022-05-03       NaN     14.0    QR  \n",
       "2  2022-05-12       NaN     13.0    QR  \n",
       "3  2015-09-06       NaN      5.0    QR  \n",
       "4  2022-05-12       NaN     12.0    QR  "
      ]
     },
     "execution_count": 12,
     "metadata": {},
     "output_type": "execute_result"
    }
   ],
   "source": [
    "master = pd.read_csv(\"3. 공공자전거 대여소 정보(22.06월 기준).csv\", encoding=\"utf-8\")\n",
    "master.head()"
   ]
  },
  {
   "cell_type": "code",
   "execution_count": 13,
   "id": "fafbccf6",
   "metadata": {},
   "outputs": [],
   "source": [
    "master.columns = ['대여소번호', '대여소명', '자치구', '상세주소', '위도', '경도', '설치시기', 'LCD 거치대수',\n",
    "       'QR 거치대수', '운영방식']"
   ]
  },
  {
   "cell_type": "code",
   "execution_count": 14,
   "id": "2ebe9d50",
   "metadata": {
    "scrolled": true
   },
   "outputs": [
    {
     "name": "stdout",
     "output_type": "stream",
     "text": [
      "대여소번호       False\n",
      "대여소명        False\n",
      "자치구         False\n",
      "상세주소        False\n",
      "위도          False\n",
      "경도          False\n",
      "설치시기         True\n",
      "LCD 거치대수     True\n",
      "QR 거치대수      True\n",
      "운영방식        False\n",
      "dtype: bool\n",
      "   대여소번호        대여소명  자치구               상세주소         위도          경도  \\\n",
      "0    102  망원역 1번출구 앞  마포구  서울특별시 마포구 월드컵로 72  37.555649  126.910629   \n",
      "1    103  망원역 2번출구 앞  마포구  서울특별시 마포구 월드컵로 79  37.554951  126.910835   \n",
      "2    104  합정역 1번출구 앞  마포구   서울특별시 마포구 양화로 59  37.550629  126.914986   \n",
      "3    105  합정역 5번출구 앞  마포구   서울특별시 마포구 양화로 48  37.550007  126.914825   \n",
      "4    106  합정역 7번출구 앞  마포구    서울특별시 마포구 독막로 4  37.548645  126.912826   \n",
      "\n",
      "         설치시기  LCD 거치대수  QR 거치대수 운영방식  \n",
      "0  2022-05-03       0.0     15.0   QR  \n",
      "1  2022-05-03       0.0     14.0   QR  \n",
      "2  2022-05-12       0.0     13.0   QR  \n",
      "3  2015-09-06       0.0      5.0   QR  \n",
      "4  2022-05-12       0.0     12.0   QR  \n"
     ]
    }
   ],
   "source": [
    "#LCD 거치대수와 QR 거치대수 column의 NaN은 0을 의미함\n",
    "print(master.isna().sum()!=0)\n",
    "master['LCD 거치대수'].fillna(0, inplace=True)\n",
    "master['QR 거치대수'].fillna(0, inplace=True)\n",
    "print(master.head())"
   ]
  },
  {
   "cell_type": "code",
   "execution_count": 15,
   "id": "24ba94fe",
   "metadata": {},
   "outputs": [],
   "source": [
    "master['거치대수'] = master['LCD 거치대수']+master['QR 거치대수']"
   ]
  },
  {
   "cell_type": "code",
   "execution_count": 16,
   "id": "e29d1154",
   "metadata": {
    "scrolled": false
   },
   "outputs": [
    {
     "data": {
      "text/plain": [
       "array([ 115,  116,  117,  123,  128,  131,  133,  134,  135,  137,  138,\n",
       "        139,  140,  141,  159,  160,  161,  162,  163,  164,  165,  166,\n",
       "        167,  169,  170,  171,  173,  175,  176,  177,  178,  179,  180,\n",
       "        188,  191,  192,  194,  195,  196,  198, 3100, 3101, 3102, 3103,\n",
       "       3104, 3105, 3107, 3109, 3110, 3111, 3112, 3113, 3114, 3115, 3116,\n",
       "       3117, 3119, 3120, 3121, 3122, 3123, 3125, 3126, 3127, 3128, 3129,\n",
       "       3130, 3131, 3132, 3133, 3134, 4253, 4255, 4262, 4264, 4265, 4266,\n",
       "       4267, 4269], dtype=int64)"
      ]
     },
     "execution_count": 16,
     "metadata": {},
     "output_type": "execute_result"
    }
   ],
   "source": [
    "master_target = master.groupby(\"자치구\")['대여소번호'].unique().loc['서대문구']\n",
    "master_target"
   ]
  },
  {
   "cell_type": "code",
   "execution_count": 17,
   "id": "dba65287",
   "metadata": {},
   "outputs": [
    {
     "data": {
      "text/plain": [
       "(589946, 4)"
      ]
     },
     "execution_count": 17,
     "metadata": {},
     "output_type": "execute_result"
    }
   ],
   "source": [
    "bike = bike[bike['대여소번호'].isin(master_target)]\n",
    "bike.shape"
   ]
  },
  {
   "cell_type": "code",
   "execution_count": 18,
   "id": "161aa96b",
   "metadata": {},
   "outputs": [],
   "source": [
    "bike = bike.merge(master[['대여소명','대여소번호', '거치대수']], on=\"대여소번호\")"
   ]
  },
  {
   "cell_type": "markdown",
   "id": "11c328a5",
   "metadata": {},
   "source": [
    "## import weather data"
   ]
  },
  {
   "cell_type": "code",
   "execution_count": 19,
   "id": "5a69514e",
   "metadata": {
    "scrolled": true
   },
   "outputs": [
    {
     "data": {
      "text/plain": [
       "['OBS_AWS_2020.csv', 'OBS_AWS_2021.csv', 'OBS_AWS_2022.csv']"
      ]
     },
     "execution_count": 19,
     "metadata": {},
     "output_type": "execute_result"
    }
   ],
   "source": [
    "dirs_w = os.getcwd() + '/weather/'\n",
    "files_w = os.listdir(dirs_w)\n",
    "fw = files_w[3:6]\n",
    "fw"
   ]
  },
  {
   "cell_type": "code",
   "execution_count": 20,
   "id": "4fb7096b",
   "metadata": {},
   "outputs": [
    {
     "name": "stdout",
     "output_type": "stream",
     "text": [
      "1/3 loaded...\n",
      "2/3 loaded...\n",
      "3/3 loaded...\n"
     ]
    }
   ],
   "source": [
    "weather = pd.DataFrame()\n",
    "\n",
    "total = len(fw)\n",
    "for i, file_w in enumerate(fw, 1):\n",
    "    print(\"%d/%d loaded...\" %(i, total))\n",
    "\n",
    "    data2=pd.read_csv(dirs_w+file_w, encoding='cp949')\n",
    "    weather = pd.concat([weather, data2])"
   ]
  },
  {
   "cell_type": "code",
   "execution_count": 21,
   "id": "5af1d042",
   "metadata": {},
   "outputs": [
    {
     "data": {
      "text/html": [
       "<div>\n",
       "<style scoped>\n",
       "    .dataframe tbody tr th:only-of-type {\n",
       "        vertical-align: middle;\n",
       "    }\n",
       "\n",
       "    .dataframe tbody tr th {\n",
       "        vertical-align: top;\n",
       "    }\n",
       "\n",
       "    .dataframe thead th {\n",
       "        text-align: right;\n",
       "    }\n",
       "</style>\n",
       "<table border=\"1\" class=\"dataframe\">\n",
       "  <thead>\n",
       "    <tr style=\"text-align: right;\">\n",
       "      <th></th>\n",
       "      <th>지점</th>\n",
       "      <th>지점명</th>\n",
       "      <th>일시</th>\n",
       "      <th>기온(°C)</th>\n",
       "      <th>풍향(deg)</th>\n",
       "      <th>풍속(m/s)</th>\n",
       "      <th>강수량(mm)</th>\n",
       "    </tr>\n",
       "  </thead>\n",
       "  <tbody>\n",
       "    <tr>\n",
       "      <th>0</th>\n",
       "      <td>412</td>\n",
       "      <td>서대문</td>\n",
       "      <td>2020-01-01 00:00</td>\n",
       "      <td>-5.8</td>\n",
       "      <td>75.6</td>\n",
       "      <td>1.0</td>\n",
       "      <td>0.0</td>\n",
       "    </tr>\n",
       "    <tr>\n",
       "      <th>1</th>\n",
       "      <td>412</td>\n",
       "      <td>서대문</td>\n",
       "      <td>2020-01-01 01:00</td>\n",
       "      <td>-5.5</td>\n",
       "      <td>67.7</td>\n",
       "      <td>1.3</td>\n",
       "      <td>0.0</td>\n",
       "    </tr>\n",
       "    <tr>\n",
       "      <th>2</th>\n",
       "      <td>412</td>\n",
       "      <td>서대문</td>\n",
       "      <td>2020-01-01 02:00</td>\n",
       "      <td>-5.4</td>\n",
       "      <td>82.3</td>\n",
       "      <td>0.7</td>\n",
       "      <td>0.0</td>\n",
       "    </tr>\n",
       "    <tr>\n",
       "      <th>3</th>\n",
       "      <td>412</td>\n",
       "      <td>서대문</td>\n",
       "      <td>2020-01-01 03:00</td>\n",
       "      <td>-5.4</td>\n",
       "      <td>112.5</td>\n",
       "      <td>0.7</td>\n",
       "      <td>0.0</td>\n",
       "    </tr>\n",
       "    <tr>\n",
       "      <th>4</th>\n",
       "      <td>412</td>\n",
       "      <td>서대문</td>\n",
       "      <td>2020-01-01 04:00</td>\n",
       "      <td>-5.4</td>\n",
       "      <td>134.7</td>\n",
       "      <td>1.1</td>\n",
       "      <td>0.0</td>\n",
       "    </tr>\n",
       "  </tbody>\n",
       "</table>\n",
       "</div>"
      ],
      "text/plain": [
       "    지점  지점명                일시  기온(°C)  풍향(deg)  풍속(m/s)  강수량(mm)\n",
       "0  412  서대문  2020-01-01 00:00    -5.8     75.6      1.0      0.0\n",
       "1  412  서대문  2020-01-01 01:00    -5.5     67.7      1.3      0.0\n",
       "2  412  서대문  2020-01-01 02:00    -5.4     82.3      0.7      0.0\n",
       "3  412  서대문  2020-01-01 03:00    -5.4    112.5      0.7      0.0\n",
       "4  412  서대문  2020-01-01 04:00    -5.4    134.7      1.1      0.0"
      ]
     },
     "execution_count": 21,
     "metadata": {},
     "output_type": "execute_result"
    }
   ],
   "source": [
    "weather.head()"
   ]
  },
  {
   "cell_type": "code",
   "execution_count": 22,
   "id": "b2739b9f",
   "metadata": {},
   "outputs": [],
   "source": [
    "weather['일시'] = weather['일시'].astype('datetime64[ns]')\n",
    "weather['연'] = weather['일시'].dt.year\n",
    "weather['월'] = weather['일시'].dt.month\n",
    "weather['일'] = weather['일시'].dt.day\n",
    "weather['대여시간'] = weather['일시'].dt.hour"
   ]
  },
  {
   "cell_type": "code",
   "execution_count": 23,
   "id": "7139b3ae",
   "metadata": {
    "scrolled": true
   },
   "outputs": [
    {
     "data": {
      "text/html": [
       "<div>\n",
       "<style scoped>\n",
       "    .dataframe tbody tr th:only-of-type {\n",
       "        vertical-align: middle;\n",
       "    }\n",
       "\n",
       "    .dataframe tbody tr th {\n",
       "        vertical-align: top;\n",
       "    }\n",
       "\n",
       "    .dataframe thead th {\n",
       "        text-align: right;\n",
       "    }\n",
       "</style>\n",
       "<table border=\"1\" class=\"dataframe\">\n",
       "  <thead>\n",
       "    <tr style=\"text-align: right;\">\n",
       "      <th></th>\n",
       "      <th>지점</th>\n",
       "      <th>지점명</th>\n",
       "      <th>일시</th>\n",
       "      <th>기온(°C)</th>\n",
       "      <th>풍향(deg)</th>\n",
       "      <th>풍속(m/s)</th>\n",
       "      <th>강수량(mm)</th>\n",
       "      <th>연</th>\n",
       "      <th>월</th>\n",
       "      <th>일</th>\n",
       "      <th>대여시간</th>\n",
       "    </tr>\n",
       "  </thead>\n",
       "  <tbody>\n",
       "    <tr>\n",
       "      <th>4368</th>\n",
       "      <td>412</td>\n",
       "      <td>서대문</td>\n",
       "      <td>2020-07-01 00:00:00</td>\n",
       "      <td>17.3</td>\n",
       "      <td>350.8</td>\n",
       "      <td>1.0</td>\n",
       "      <td>0.0</td>\n",
       "      <td>2020</td>\n",
       "      <td>7</td>\n",
       "      <td>1</td>\n",
       "      <td>0</td>\n",
       "    </tr>\n",
       "    <tr>\n",
       "      <th>4369</th>\n",
       "      <td>412</td>\n",
       "      <td>서대문</td>\n",
       "      <td>2020-07-01 01:00:00</td>\n",
       "      <td>17.3</td>\n",
       "      <td>1.9</td>\n",
       "      <td>0.7</td>\n",
       "      <td>0.0</td>\n",
       "      <td>2020</td>\n",
       "      <td>7</td>\n",
       "      <td>1</td>\n",
       "      <td>1</td>\n",
       "    </tr>\n",
       "    <tr>\n",
       "      <th>4370</th>\n",
       "      <td>412</td>\n",
       "      <td>서대문</td>\n",
       "      <td>2020-07-01 02:00:00</td>\n",
       "      <td>17.2</td>\n",
       "      <td>5.4</td>\n",
       "      <td>0.8</td>\n",
       "      <td>0.0</td>\n",
       "      <td>2020</td>\n",
       "      <td>7</td>\n",
       "      <td>1</td>\n",
       "      <td>2</td>\n",
       "    </tr>\n",
       "    <tr>\n",
       "      <th>4371</th>\n",
       "      <td>412</td>\n",
       "      <td>서대문</td>\n",
       "      <td>2020-07-01 03:00:00</td>\n",
       "      <td>16.8</td>\n",
       "      <td>12.1</td>\n",
       "      <td>0.9</td>\n",
       "      <td>0.0</td>\n",
       "      <td>2020</td>\n",
       "      <td>7</td>\n",
       "      <td>1</td>\n",
       "      <td>3</td>\n",
       "    </tr>\n",
       "    <tr>\n",
       "      <th>4372</th>\n",
       "      <td>412</td>\n",
       "      <td>서대문</td>\n",
       "      <td>2020-07-01 04:00:00</td>\n",
       "      <td>16.4</td>\n",
       "      <td>24.6</td>\n",
       "      <td>0.5</td>\n",
       "      <td>0.0</td>\n",
       "      <td>2020</td>\n",
       "      <td>7</td>\n",
       "      <td>1</td>\n",
       "      <td>4</td>\n",
       "    </tr>\n",
       "    <tr>\n",
       "      <th>...</th>\n",
       "      <td>...</td>\n",
       "      <td>...</td>\n",
       "      <td>...</td>\n",
       "      <td>...</td>\n",
       "      <td>...</td>\n",
       "      <td>...</td>\n",
       "      <td>...</td>\n",
       "      <td>...</td>\n",
       "      <td>...</td>\n",
       "      <td>...</td>\n",
       "      <td>...</td>\n",
       "    </tr>\n",
       "    <tr>\n",
       "      <th>8755</th>\n",
       "      <td>412</td>\n",
       "      <td>서대문</td>\n",
       "      <td>2021-12-31 19:00:00</td>\n",
       "      <td>-6.4</td>\n",
       "      <td>122.2</td>\n",
       "      <td>2.3</td>\n",
       "      <td>0.0</td>\n",
       "      <td>2021</td>\n",
       "      <td>12</td>\n",
       "      <td>31</td>\n",
       "      <td>19</td>\n",
       "    </tr>\n",
       "    <tr>\n",
       "      <th>8756</th>\n",
       "      <td>412</td>\n",
       "      <td>서대문</td>\n",
       "      <td>2021-12-31 20:00:00</td>\n",
       "      <td>-6.7</td>\n",
       "      <td>102.1</td>\n",
       "      <td>2.1</td>\n",
       "      <td>0.0</td>\n",
       "      <td>2021</td>\n",
       "      <td>12</td>\n",
       "      <td>31</td>\n",
       "      <td>20</td>\n",
       "    </tr>\n",
       "    <tr>\n",
       "      <th>8757</th>\n",
       "      <td>412</td>\n",
       "      <td>서대문</td>\n",
       "      <td>2021-12-31 21:00:00</td>\n",
       "      <td>-7.4</td>\n",
       "      <td>97.9</td>\n",
       "      <td>2.7</td>\n",
       "      <td>0.0</td>\n",
       "      <td>2021</td>\n",
       "      <td>12</td>\n",
       "      <td>31</td>\n",
       "      <td>21</td>\n",
       "    </tr>\n",
       "    <tr>\n",
       "      <th>8758</th>\n",
       "      <td>412</td>\n",
       "      <td>서대문</td>\n",
       "      <td>2021-12-31 22:00:00</td>\n",
       "      <td>-8.0</td>\n",
       "      <td>87.2</td>\n",
       "      <td>1.6</td>\n",
       "      <td>0.0</td>\n",
       "      <td>2021</td>\n",
       "      <td>12</td>\n",
       "      <td>31</td>\n",
       "      <td>22</td>\n",
       "    </tr>\n",
       "    <tr>\n",
       "      <th>8759</th>\n",
       "      <td>412</td>\n",
       "      <td>서대문</td>\n",
       "      <td>2021-12-31 23:00:00</td>\n",
       "      <td>-8.7</td>\n",
       "      <td>114.2</td>\n",
       "      <td>1.6</td>\n",
       "      <td>0.0</td>\n",
       "      <td>2021</td>\n",
       "      <td>12</td>\n",
       "      <td>31</td>\n",
       "      <td>23</td>\n",
       "    </tr>\n",
       "  </tbody>\n",
       "</table>\n",
       "<p>8793 rows × 11 columns</p>\n",
       "</div>"
      ],
      "text/plain": [
       "       지점  지점명                  일시  기온(°C)  풍향(deg)  풍속(m/s)  강수량(mm)     연  \\\n",
       "4368  412  서대문 2020-07-01 00:00:00    17.3    350.8      1.0      0.0  2020   \n",
       "4369  412  서대문 2020-07-01 01:00:00    17.3      1.9      0.7      0.0  2020   \n",
       "4370  412  서대문 2020-07-01 02:00:00    17.2      5.4      0.8      0.0  2020   \n",
       "4371  412  서대문 2020-07-01 03:00:00    16.8     12.1      0.9      0.0  2020   \n",
       "4372  412  서대문 2020-07-01 04:00:00    16.4     24.6      0.5      0.0  2020   \n",
       "...   ...  ...                 ...     ...      ...      ...      ...   ...   \n",
       "8755  412  서대문 2021-12-31 19:00:00    -6.4    122.2      2.3      0.0  2021   \n",
       "8756  412  서대문 2021-12-31 20:00:00    -6.7    102.1      2.1      0.0  2021   \n",
       "8757  412  서대문 2021-12-31 21:00:00    -7.4     97.9      2.7      0.0  2021   \n",
       "8758  412  서대문 2021-12-31 22:00:00    -8.0     87.2      1.6      0.0  2021   \n",
       "8759  412  서대문 2021-12-31 23:00:00    -8.7    114.2      1.6      0.0  2021   \n",
       "\n",
       "       월   일  대여시간  \n",
       "4368   7   1     0  \n",
       "4369   7   1     1  \n",
       "4370   7   1     2  \n",
       "4371   7   1     3  \n",
       "4372   7   1     4  \n",
       "...   ..  ..   ...  \n",
       "8755  12  31    19  \n",
       "8756  12  31    20  \n",
       "8757  12  31    21  \n",
       "8758  12  31    22  \n",
       "8759  12  31    23  \n",
       "\n",
       "[8793 rows x 11 columns]"
      ]
     },
     "execution_count": 23,
     "metadata": {},
     "output_type": "execute_result"
    }
   ],
   "source": [
    "weather.drop(weather[(weather['연'] == 2020) & (weather['월'] <=6)].index)"
   ]
  },
  {
   "cell_type": "code",
   "execution_count": 24,
   "id": "04257912",
   "metadata": {},
   "outputs": [
    {
     "name": "stdout",
     "output_type": "stream",
     "text": [
      "지점           0\n",
      "지점명          0\n",
      "일시           0\n",
      "기온(°C)      41\n",
      "풍향(deg)     20\n",
      "풍속(m/s)     20\n",
      "강수량(mm)    236\n",
      "연            0\n",
      "월            0\n",
      "일            0\n",
      "대여시간         0\n",
      "dtype: int64\n"
     ]
    }
   ],
   "source": [
    "#missing value imputation\n",
    "print(weather.isna().sum())\n",
    "\n",
    "features_imputer = ['기온(°C)', '풍향(deg)', '풍속(m/s)', '강수량(mm)', '연', '월', '일', '대여시간']\n",
    "imputer = KNNImputer(n_neighbors=5)\n",
    "weather[features_imputer] = imputer.fit_transform(weather[features_imputer])\n"
   ]
  },
  {
   "cell_type": "code",
   "execution_count": 25,
   "id": "ce5920df",
   "metadata": {},
   "outputs": [
    {
     "data": {
      "text/html": [
       "<div>\n",
       "<style scoped>\n",
       "    .dataframe tbody tr th:only-of-type {\n",
       "        vertical-align: middle;\n",
       "    }\n",
       "\n",
       "    .dataframe tbody tr th {\n",
       "        vertical-align: top;\n",
       "    }\n",
       "\n",
       "    .dataframe thead th {\n",
       "        text-align: right;\n",
       "    }\n",
       "</style>\n",
       "<table border=\"1\" class=\"dataframe\">\n",
       "  <thead>\n",
       "    <tr style=\"text-align: right;\">\n",
       "      <th></th>\n",
       "      <th>대여일자</th>\n",
       "      <th>대여시간</th>\n",
       "      <th>대여소번호</th>\n",
       "      <th>이용건수</th>\n",
       "      <th>대여소명</th>\n",
       "      <th>거치대수</th>\n",
       "      <th>연</th>\n",
       "      <th>월</th>\n",
       "      <th>일</th>\n",
       "      <th>요일</th>\n",
       "    </tr>\n",
       "  </thead>\n",
       "  <tbody>\n",
       "    <tr>\n",
       "      <th>0</th>\n",
       "      <td>2020-03-01</td>\n",
       "      <td>0</td>\n",
       "      <td>115</td>\n",
       "      <td>1</td>\n",
       "      <td>마스타 빌딩 앞</td>\n",
       "      <td>15.0</td>\n",
       "      <td>2020</td>\n",
       "      <td>3</td>\n",
       "      <td>1</td>\n",
       "      <td>6</td>\n",
       "    </tr>\n",
       "    <tr>\n",
       "      <th>1</th>\n",
       "      <td>2020-03-01</td>\n",
       "      <td>1</td>\n",
       "      <td>115</td>\n",
       "      <td>2</td>\n",
       "      <td>마스타 빌딩 앞</td>\n",
       "      <td>15.0</td>\n",
       "      <td>2020</td>\n",
       "      <td>3</td>\n",
       "      <td>1</td>\n",
       "      <td>6</td>\n",
       "    </tr>\n",
       "    <tr>\n",
       "      <th>2</th>\n",
       "      <td>2020-03-01</td>\n",
       "      <td>2</td>\n",
       "      <td>115</td>\n",
       "      <td>1</td>\n",
       "      <td>마스타 빌딩 앞</td>\n",
       "      <td>15.0</td>\n",
       "      <td>2020</td>\n",
       "      <td>3</td>\n",
       "      <td>1</td>\n",
       "      <td>6</td>\n",
       "    </tr>\n",
       "    <tr>\n",
       "      <th>3</th>\n",
       "      <td>2020-03-01</td>\n",
       "      <td>3</td>\n",
       "      <td>115</td>\n",
       "      <td>1</td>\n",
       "      <td>마스타 빌딩 앞</td>\n",
       "      <td>15.0</td>\n",
       "      <td>2020</td>\n",
       "      <td>3</td>\n",
       "      <td>1</td>\n",
       "      <td>6</td>\n",
       "    </tr>\n",
       "    <tr>\n",
       "      <th>4</th>\n",
       "      <td>2020-03-01</td>\n",
       "      <td>5</td>\n",
       "      <td>115</td>\n",
       "      <td>1</td>\n",
       "      <td>마스타 빌딩 앞</td>\n",
       "      <td>15.0</td>\n",
       "      <td>2020</td>\n",
       "      <td>3</td>\n",
       "      <td>1</td>\n",
       "      <td>6</td>\n",
       "    </tr>\n",
       "  </tbody>\n",
       "</table>\n",
       "</div>"
      ],
      "text/plain": [
       "        대여일자  대여시간  대여소번호  이용건수      대여소명  거치대수     연  월  일  요일\n",
       "0 2020-03-01     0    115     1  마스타 빌딩 앞  15.0  2020  3  1   6\n",
       "1 2020-03-01     1    115     2  마스타 빌딩 앞  15.0  2020  3  1   6\n",
       "2 2020-03-01     2    115     1  마스타 빌딩 앞  15.0  2020  3  1   6\n",
       "3 2020-03-01     3    115     1  마스타 빌딩 앞  15.0  2020  3  1   6\n",
       "4 2020-03-01     5    115     1  마스타 빌딩 앞  15.0  2020  3  1   6"
      ]
     },
     "execution_count": 25,
     "metadata": {},
     "output_type": "execute_result"
    }
   ],
   "source": [
    "bike['연'] = bike['대여일자'].dt.year\n",
    "bike['월'] = bike['대여일자'].dt.month\n",
    "bike['일'] = bike['대여일자'].dt.day\n",
    "bike['요일'] = bike['대여일자'].dt.dayofweek\n",
    "bike.head()"
   ]
  },
  {
   "cell_type": "code",
   "execution_count": 26,
   "id": "1d1f8900",
   "metadata": {},
   "outputs": [],
   "source": [
    "bike = bike.merge(weather, on=['연', '월', '일', '대여시간'])"
   ]
  },
  {
   "cell_type": "code",
   "execution_count": 27,
   "id": "02f7d413",
   "metadata": {},
   "outputs": [
    {
     "data": {
      "text/html": [
       "<div>\n",
       "<style scoped>\n",
       "    .dataframe tbody tr th:only-of-type {\n",
       "        vertical-align: middle;\n",
       "    }\n",
       "\n",
       "    .dataframe tbody tr th {\n",
       "        vertical-align: top;\n",
       "    }\n",
       "\n",
       "    .dataframe thead th {\n",
       "        text-align: right;\n",
       "    }\n",
       "</style>\n",
       "<table border=\"1\" class=\"dataframe\">\n",
       "  <thead>\n",
       "    <tr style=\"text-align: right;\">\n",
       "      <th></th>\n",
       "      <th>대여시간</th>\n",
       "      <th>대여소번호</th>\n",
       "      <th>이용건수</th>\n",
       "      <th>대여소명</th>\n",
       "      <th>거치대수</th>\n",
       "      <th>연</th>\n",
       "      <th>월</th>\n",
       "      <th>일</th>\n",
       "      <th>요일</th>\n",
       "      <th>기온(°C)</th>\n",
       "      <th>풍향(deg)</th>\n",
       "      <th>풍속(m/s)</th>\n",
       "      <th>강수량(mm)</th>\n",
       "    </tr>\n",
       "  </thead>\n",
       "  <tbody>\n",
       "    <tr>\n",
       "      <th>0</th>\n",
       "      <td>0</td>\n",
       "      <td>115</td>\n",
       "      <td>1</td>\n",
       "      <td>마스타 빌딩 앞</td>\n",
       "      <td>15.0</td>\n",
       "      <td>2020</td>\n",
       "      <td>3</td>\n",
       "      <td>1</td>\n",
       "      <td>6</td>\n",
       "      <td>4.6</td>\n",
       "      <td>331.2</td>\n",
       "      <td>0.7</td>\n",
       "      <td>0.0</td>\n",
       "    </tr>\n",
       "    <tr>\n",
       "      <th>1</th>\n",
       "      <td>0</td>\n",
       "      <td>117</td>\n",
       "      <td>1</td>\n",
       "      <td>홍은사거리</td>\n",
       "      <td>46.0</td>\n",
       "      <td>2020</td>\n",
       "      <td>3</td>\n",
       "      <td>1</td>\n",
       "      <td>6</td>\n",
       "      <td>4.6</td>\n",
       "      <td>331.2</td>\n",
       "      <td>0.7</td>\n",
       "      <td>0.0</td>\n",
       "    </tr>\n",
       "    <tr>\n",
       "      <th>2</th>\n",
       "      <td>0</td>\n",
       "      <td>123</td>\n",
       "      <td>3</td>\n",
       "      <td>문화촌 공원</td>\n",
       "      <td>20.0</td>\n",
       "      <td>2020</td>\n",
       "      <td>3</td>\n",
       "      <td>1</td>\n",
       "      <td>6</td>\n",
       "      <td>4.6</td>\n",
       "      <td>331.2</td>\n",
       "      <td>0.7</td>\n",
       "      <td>0.0</td>\n",
       "    </tr>\n",
       "    <tr>\n",
       "      <th>3</th>\n",
       "      <td>0</td>\n",
       "      <td>128</td>\n",
       "      <td>1</td>\n",
       "      <td>신촌역(2호선) 1번출구 옆</td>\n",
       "      <td>18.0</td>\n",
       "      <td>2020</td>\n",
       "      <td>3</td>\n",
       "      <td>1</td>\n",
       "      <td>6</td>\n",
       "      <td>4.6</td>\n",
       "      <td>331.2</td>\n",
       "      <td>0.7</td>\n",
       "      <td>0.0</td>\n",
       "    </tr>\n",
       "    <tr>\n",
       "      <th>4</th>\n",
       "      <td>0</td>\n",
       "      <td>131</td>\n",
       "      <td>1</td>\n",
       "      <td>증산2교</td>\n",
       "      <td>20.0</td>\n",
       "      <td>2020</td>\n",
       "      <td>3</td>\n",
       "      <td>1</td>\n",
       "      <td>6</td>\n",
       "      <td>4.6</td>\n",
       "      <td>331.2</td>\n",
       "      <td>0.7</td>\n",
       "      <td>0.0</td>\n",
       "    </tr>\n",
       "  </tbody>\n",
       "</table>\n",
       "</div>"
      ],
      "text/plain": [
       "   대여시간  대여소번호  이용건수             대여소명  거치대수     연  월  일  요일  기온(°C)  풍향(deg)  \\\n",
       "0     0    115     1         마스타 빌딩 앞  15.0  2020  3  1   6     4.6    331.2   \n",
       "1     0    117     1            홍은사거리  46.0  2020  3  1   6     4.6    331.2   \n",
       "2     0    123     3           문화촌 공원  20.0  2020  3  1   6     4.6    331.2   \n",
       "3     0    128     1  신촌역(2호선) 1번출구 옆  18.0  2020  3  1   6     4.6    331.2   \n",
       "4     0    131     1             증산2교  20.0  2020  3  1   6     4.6    331.2   \n",
       "\n",
       "   풍속(m/s)  강수량(mm)  \n",
       "0      0.7      0.0  \n",
       "1      0.7      0.0  \n",
       "2      0.7      0.0  \n",
       "3      0.7      0.0  \n",
       "4      0.7      0.0  "
      ]
     },
     "execution_count": 27,
     "metadata": {},
     "output_type": "execute_result"
    }
   ],
   "source": [
    "bike.drop([\"대여일자\", \"지점\", \"지점명\",\"일시\"],inplace=True, axis=1)\n",
    "bike.head()"
   ]
  },
  {
   "cell_type": "markdown",
   "id": "4a5fa39b",
   "metadata": {},
   "source": [
    "## feature engineering"
   ]
  },
  {
   "cell_type": "code",
   "execution_count": 28,
   "id": "0fdd13a1",
   "metadata": {},
   "outputs": [
    {
     "data": {
      "text/html": [
       "<div>\n",
       "<style scoped>\n",
       "    .dataframe tbody tr th:only-of-type {\n",
       "        vertical-align: middle;\n",
       "    }\n",
       "\n",
       "    .dataframe tbody tr th {\n",
       "        vertical-align: top;\n",
       "    }\n",
       "\n",
       "    .dataframe thead th {\n",
       "        text-align: right;\n",
       "    }\n",
       "</style>\n",
       "<table border=\"1\" class=\"dataframe\">\n",
       "  <thead>\n",
       "    <tr style=\"text-align: right;\">\n",
       "      <th></th>\n",
       "      <th>대여시간</th>\n",
       "      <th>대여소번호</th>\n",
       "      <th>이용건수</th>\n",
       "      <th>대여소명</th>\n",
       "      <th>거치대수</th>\n",
       "      <th>연</th>\n",
       "      <th>월</th>\n",
       "      <th>일</th>\n",
       "      <th>기온(°C)</th>\n",
       "      <th>풍향(deg)</th>\n",
       "      <th>풍속(m/s)</th>\n",
       "      <th>강수량(mm)</th>\n",
       "      <th>요일_0</th>\n",
       "      <th>요일_1</th>\n",
       "      <th>요일_2</th>\n",
       "      <th>요일_3</th>\n",
       "      <th>요일_4</th>\n",
       "      <th>요일_5</th>\n",
       "      <th>요일_6</th>\n",
       "    </tr>\n",
       "  </thead>\n",
       "  <tbody>\n",
       "    <tr>\n",
       "      <th>0</th>\n",
       "      <td>0</td>\n",
       "      <td>115</td>\n",
       "      <td>1</td>\n",
       "      <td>마스타 빌딩 앞</td>\n",
       "      <td>15.0</td>\n",
       "      <td>2020</td>\n",
       "      <td>3</td>\n",
       "      <td>1</td>\n",
       "      <td>4.6</td>\n",
       "      <td>331.2</td>\n",
       "      <td>0.7</td>\n",
       "      <td>0.0</td>\n",
       "      <td>0</td>\n",
       "      <td>0</td>\n",
       "      <td>0</td>\n",
       "      <td>0</td>\n",
       "      <td>0</td>\n",
       "      <td>0</td>\n",
       "      <td>1</td>\n",
       "    </tr>\n",
       "    <tr>\n",
       "      <th>1</th>\n",
       "      <td>0</td>\n",
       "      <td>117</td>\n",
       "      <td>1</td>\n",
       "      <td>홍은사거리</td>\n",
       "      <td>46.0</td>\n",
       "      <td>2020</td>\n",
       "      <td>3</td>\n",
       "      <td>1</td>\n",
       "      <td>4.6</td>\n",
       "      <td>331.2</td>\n",
       "      <td>0.7</td>\n",
       "      <td>0.0</td>\n",
       "      <td>0</td>\n",
       "      <td>0</td>\n",
       "      <td>0</td>\n",
       "      <td>0</td>\n",
       "      <td>0</td>\n",
       "      <td>0</td>\n",
       "      <td>1</td>\n",
       "    </tr>\n",
       "    <tr>\n",
       "      <th>2</th>\n",
       "      <td>0</td>\n",
       "      <td>123</td>\n",
       "      <td>3</td>\n",
       "      <td>문화촌 공원</td>\n",
       "      <td>20.0</td>\n",
       "      <td>2020</td>\n",
       "      <td>3</td>\n",
       "      <td>1</td>\n",
       "      <td>4.6</td>\n",
       "      <td>331.2</td>\n",
       "      <td>0.7</td>\n",
       "      <td>0.0</td>\n",
       "      <td>0</td>\n",
       "      <td>0</td>\n",
       "      <td>0</td>\n",
       "      <td>0</td>\n",
       "      <td>0</td>\n",
       "      <td>0</td>\n",
       "      <td>1</td>\n",
       "    </tr>\n",
       "    <tr>\n",
       "      <th>3</th>\n",
       "      <td>0</td>\n",
       "      <td>128</td>\n",
       "      <td>1</td>\n",
       "      <td>신촌역(2호선) 1번출구 옆</td>\n",
       "      <td>18.0</td>\n",
       "      <td>2020</td>\n",
       "      <td>3</td>\n",
       "      <td>1</td>\n",
       "      <td>4.6</td>\n",
       "      <td>331.2</td>\n",
       "      <td>0.7</td>\n",
       "      <td>0.0</td>\n",
       "      <td>0</td>\n",
       "      <td>0</td>\n",
       "      <td>0</td>\n",
       "      <td>0</td>\n",
       "      <td>0</td>\n",
       "      <td>0</td>\n",
       "      <td>1</td>\n",
       "    </tr>\n",
       "    <tr>\n",
       "      <th>4</th>\n",
       "      <td>0</td>\n",
       "      <td>131</td>\n",
       "      <td>1</td>\n",
       "      <td>증산2교</td>\n",
       "      <td>20.0</td>\n",
       "      <td>2020</td>\n",
       "      <td>3</td>\n",
       "      <td>1</td>\n",
       "      <td>4.6</td>\n",
       "      <td>331.2</td>\n",
       "      <td>0.7</td>\n",
       "      <td>0.0</td>\n",
       "      <td>0</td>\n",
       "      <td>0</td>\n",
       "      <td>0</td>\n",
       "      <td>0</td>\n",
       "      <td>0</td>\n",
       "      <td>0</td>\n",
       "      <td>1</td>\n",
       "    </tr>\n",
       "  </tbody>\n",
       "</table>\n",
       "</div>"
      ],
      "text/plain": [
       "   대여시간  대여소번호  이용건수             대여소명  거치대수     연  월  일  기온(°C)  풍향(deg)  \\\n",
       "0     0    115     1         마스타 빌딩 앞  15.0  2020  3  1     4.6    331.2   \n",
       "1     0    117     1            홍은사거리  46.0  2020  3  1     4.6    331.2   \n",
       "2     0    123     3           문화촌 공원  20.0  2020  3  1     4.6    331.2   \n",
       "3     0    128     1  신촌역(2호선) 1번출구 옆  18.0  2020  3  1     4.6    331.2   \n",
       "4     0    131     1             증산2교  20.0  2020  3  1     4.6    331.2   \n",
       "\n",
       "   풍속(m/s)  강수량(mm)  요일_0  요일_1  요일_2  요일_3  요일_4  요일_5  요일_6  \n",
       "0      0.7      0.0     0     0     0     0     0     0     1  \n",
       "1      0.7      0.0     0     0     0     0     0     0     1  \n",
       "2      0.7      0.0     0     0     0     0     0     0     1  \n",
       "3      0.7      0.0     0     0     0     0     0     0     1  \n",
       "4      0.7      0.0     0     0     0     0     0     0     1  "
      ]
     },
     "execution_count": 28,
     "metadata": {},
     "output_type": "execute_result"
    }
   ],
   "source": [
    "#one hot encoding for categorical variable\n",
    "bike_final = bike.join(pd.get_dummies(bike['요일'], prefix=\"요일\"))\n",
    "bike_final.drop(\"요일\",inplace=True, axis=1)\n",
    "bike_final.head()"
   ]
  },
  {
   "cell_type": "markdown",
   "id": "48842cfa",
   "metadata": {},
   "source": [
    "# Model Selection with the most popular 대여소"
   ]
  },
  {
   "cell_type": "code",
   "execution_count": 29,
   "id": "b01cd5ce",
   "metadata": {},
   "outputs": [
    {
     "name": "stdout",
     "output_type": "stream",
     "text": [
      "홍은사거리           13911\n",
      "증산2교            13366\n",
      "문화촌 공원          12957\n",
      "증산교 앞           12534\n",
      "홍연2교옆           12493\n",
      "                ...  \n",
      "서대문자연사박물관 입구     1157\n",
      "국민연금공단충정로사옥      1047\n",
      "안산초등학교 앞          509\n",
      "연희IC 남측           492\n",
      "독립문역 5번 출구        449\n",
      "Name: 대여소명, Length: 79, dtype: int64\n"
     ]
    }
   ],
   "source": [
    "print(bike_final['대여소명'].value_counts())"
   ]
  },
  {
   "cell_type": "code",
   "execution_count": 30,
   "id": "4b184db1",
   "metadata": {},
   "outputs": [
    {
     "data": {
      "text/plain": [
       "(13911, 19)"
      ]
     },
     "execution_count": 30,
     "metadata": {},
     "output_type": "execute_result"
    }
   ],
   "source": [
    "hongeun = bike_final[bike_final[\"대여소명\"]==\"홍은사거리\"]\n",
    "hongeun.shape"
   ]
  },
  {
   "cell_type": "code",
   "execution_count": 31,
   "id": "5d7d3cb8",
   "metadata": {},
   "outputs": [
    {
     "data": {
      "text/plain": [
       "{'강수량(mm)',\n",
       " '거치대수',\n",
       " '기온(°C)',\n",
       " '대여시간',\n",
       " '연',\n",
       " '요일_0',\n",
       " '요일_1',\n",
       " '요일_2',\n",
       " '요일_3',\n",
       " '요일_4',\n",
       " '요일_5',\n",
       " '요일_6',\n",
       " '월',\n",
       " '일',\n",
       " '풍속(m/s)',\n",
       " '풍향(deg)'}"
      ]
     },
     "execution_count": 31,
     "metadata": {},
     "output_type": "execute_result"
    }
   ],
   "source": [
    "features=set(bike_final.columns)-set([\"이용건수\",\"대여소명\",\"대여소번호\"])\n",
    "features"
   ]
  },
  {
   "cell_type": "code",
   "execution_count": 32,
   "id": "e025276e",
   "metadata": {},
   "outputs": [],
   "source": [
    "hongeun_X_train, hongeun_X_test, hongeun_Y_train, hongeun_Y_test = train_test_split(hongeun[features], hongeun['이용건수'], test_size=0.3, random_state=42)"
   ]
  },
  {
   "cell_type": "code",
   "execution_count": 33,
   "id": "05cd287a",
   "metadata": {},
   "outputs": [
    {
     "name": "stdout",
     "output_type": "stream",
     "text": [
      "(9737, 16)\n",
      "(9737,)\n",
      "(4174, 16)\n",
      "(4174,)\n"
     ]
    }
   ],
   "source": [
    "print(hongeun_X_train.shape)\n",
    "print(hongeun_Y_train.shape)\n",
    "print(hongeun_X_test.shape)\n",
    "print(hongeun_Y_test.shape)"
   ]
  },
  {
   "cell_type": "code",
   "execution_count": 34,
   "id": "6fe34a85",
   "metadata": {},
   "outputs": [],
   "source": [
    "models = [\n",
    "    ('lr', lm.LinearRegression(n_jobs=-1)),\n",
    "    ('ridge', lm.Ridge()),\n",
    "    ('lasso', lm.Lasso()),\n",
    "    ('elastic', lm.ElasticNet()),\n",
    "    ('LassoLars', lm.LassoLars()),\n",
    "    ('SGDRegressor', lm.SGDRegressor()),\n",
    "    ('Perceptron', lm.Perceptron(n_jobs=-1)),\n",
    "]\n",
    "\n",
    "n = 3\n",
    "params = {\n",
    "    'lr' : {\n",
    "        'fit_intercept': [True, False],\n",
    "        'normalize': [True, False],\n",
    "    },\n",
    "    'ridge': {\n",
    "        'alpha': [0.01, 0.1, 1.0, 10, 100],\n",
    "        'fit_intercept': [True, False],\n",
    "        'normalize': [True, False],\n",
    "    },\n",
    "    'lasso': {\n",
    "        'alpha': [0.1, 1.0, 10],\n",
    "        'fit_intercept': [True, False],\n",
    "        'normalize': [True, False],\n",
    "    },\n",
    "    'elastic': {\n",
    "        'alpha': [0.1, 1.0, 10],\n",
    "        'normalize': [True, False],\n",
    "        'fit_intercept': [True, False],\n",
    "    },\n",
    "    'LassoLars': {\n",
    "        'alpha': [0.1, 1.0, 10],\n",
    "        'normalize': [True, False],\n",
    "        'fit_intercept': [True, False],\n",
    "    },\n",
    "    'SGDRegressor': {\n",
    "        'penalty': ['l1', 'l2'],\n",
    "        'alpha': [0.001, 0.01, 0.1, 1.0, 10, 100],\n",
    "        'fit_intercept': [True, False],\n",
    "    },\n",
    "    'Perceptron' :{\n",
    "        'penalty': ['None', 'l1', 'l2'],\n",
    "        'alpha': [0.001, 0.01, 0.1, 1.0, 10, 100],\n",
    "        'fit_intercept': [True, False]\n",
    "    },\n",
    "}"
   ]
  },
  {
   "cell_type": "code",
   "execution_count": 35,
   "id": "f86f6164",
   "metadata": {},
   "outputs": [
    {
     "name": "stdout",
     "output_type": "stream",
     "text": [
      "Fitting 5 folds for each of 4 candidates, totalling 20 fits\n",
      "2.7350413272640153 LinearRegression(n_jobs=-1, normalize=True)\n",
      "Fitting 5 folds for each of 20 candidates, totalling 100 fits\n",
      "2.7347181970251278 Ridge(alpha=100)\n",
      "Fitting 5 folds for each of 12 candidates, totalling 60 fits\n",
      "2.732256865565366 Lasso(alpha=0.1)\n",
      "Fitting 5 folds for each of 12 candidates, totalling 60 fits\n",
      "2.7320660883767034 ElasticNet(alpha=0.1)\n",
      "Fitting 5 folds for each of 12 candidates, totalling 60 fits\n",
      "2.7322567982429686 LassoLars(alpha=0.1, normalize=False)\n",
      "Fitting 5 folds for each of 24 candidates, totalling 120 fits\n"
     ]
    },
    {
     "name": "stderr",
     "output_type": "stream",
     "text": [
      "C:\\ProgramData\\Anaconda3\\lib\\site-packages\\sklearn\\linear_model\\_stochastic_gradient.py:1220: ConvergenceWarning: Maximum number of iteration reached before convergence. Consider increasing max_iter to improve the fit.\n",
      "  warnings.warn(\"Maximum number of iteration reached before \"\n",
      "C:\\ProgramData\\Anaconda3\\lib\\site-packages\\sklearn\\model_selection\\_split.py:666: UserWarning: The least populated class in y has only 2 members, which is less than n_splits=5.\n",
      "  warnings.warn((\"The least populated class in y has only %d\"\n"
     ]
    },
    {
     "name": "stdout",
     "output_type": "stream",
     "text": [
      "371125869555731.25 SGDRegressor(alpha=100)\n",
      "Fitting 5 folds for each of 36 candidates, totalling 180 fits\n",
      "4.069956875898419 Perceptron(alpha=10, n_jobs=-1, penalty='l1')\n"
     ]
    }
   ],
   "source": [
    "best_model, best_mae = None, float('inf')\n",
    "for model_name, model in models:\n",
    "    param_grid = params[model_name]\n",
    "    grid = GridSearchCV(model, cv=5, n_jobs=-1, param_grid=param_grid, verbose=2)\n",
    "    grid = grid.fit(hongeun_X_train, hongeun_Y_train)\n",
    "\n",
    "    model = grid.best_estimator_\n",
    "    predictions = model.predict(hongeun_X_test)\n",
    "    mae = mean_absolute_error(hongeun_Y_test, predictions)\n",
    "\n",
    "    print(mae, model)\n",
    "\n",
    "    if mae < best_mae:\n",
    "        best_model = model\n",
    "        best_mae = mae"
   ]
  },
  {
   "cell_type": "markdown",
   "id": "5d88ec1b",
   "metadata": {},
   "source": [
    "elasticNet이 MAE 2.73 정도로 제일 낮았음. "
   ]
  },
  {
   "cell_type": "code",
   "execution_count": 36,
   "id": "5d01afc4",
   "metadata": {
    "scrolled": true
   },
   "outputs": [
    {
     "data": {
      "text/plain": [
       "ElasticNet(alpha=0.1)"
      ]
     },
     "execution_count": 36,
     "metadata": {},
     "output_type": "execute_result"
    }
   ],
   "source": [
    "best_model"
   ]
  },
  {
   "cell_type": "markdown",
   "id": "1139e6d2",
   "metadata": {},
   "source": [
    "# 모든 대여소에 대한 예측 모델"
   ]
  },
  {
   "cell_type": "code",
   "execution_count": 37,
   "id": "a0900908",
   "metadata": {
    "scrolled": true
   },
   "outputs": [
    {
     "name": "stdout",
     "output_type": "stream",
     "text": [
      "[1/79] DMC래미안e편한세상203동옆 [2/79] DMC엘가아파트 앞 [3/79] DMC파크뷰자이1단지 110동 앞 [4/79] DMC파크뷰자이아파트 302동 앞 [5/79] SK리체블(상수도사업본부) [6/79] e편한세상 신촌4단지 앞 [7/79] 가재울 초등학교 [8/79] 가재울사거리 [9/79] 가좌삼거리 [10/79] 가좌역 4번출구 앞 [11/79] 국민연금공단충정로사옥 [12/79] 남가좌동 제2공영주차장 [13/79] 독립문역 5번 출구 [14/79] 독립문역사거리 [15/79] 동신병원 맞은편 [16/79] 래미안 루센티아 아파트 108동 앞 [17/79] 마스타 빌딩 앞 [18/79] 명물길 원형무대 앞 [19/79] 명지대학교 도서관 [20/79] 명지전문대학교 정문 앞 [21/79] 모래내고가차도 [22/79] 무악재역 4번 출구 [23/79] 무악재역1번 출구 [24/79] 문화촌 공원 [25/79] 봉원고가차도 밑 [26/79] 북가좌 삼거리 [27/79] 북가좌 초등학교 [28/79] 북가좌1동 주민센터 [29/79] 북가좌삼거리2 [30/79] 북성초교 [31/79] 북아현 치안센터 인근 [32/79] 북아현동 가구거리 [33/79] 북한산더샾 106동 앞 [34/79] 서대문구청 [35/79] 서대문역 2번 출구 [36/79] 서대문역 8번출구 앞 [37/79] 서대문자연사박물관 입구 [38/79] 서우빌딩 [39/79] 신촌기차역입구 교차로 [40/79] 신촌동 제1공영주차장 앞 [41/79] 신촌역 4번출구 [42/79] 신촌역(2호선) 1번출구 옆 [43/79] 안산초등학교 앞 [44/79] 연가교 교차로 [45/79] 연가초등학교 옆 [46/79] 연대 대운동장 옆 [47/79] 연서어린이공원 [48/79] 연세대 정문 건너편 [49/79] 연세로 명물길 [50/79] 연희 브라운스톤 아파트 앞 [51/79] 연희IC 남측 [52/79] 연희교차로 인근 [53/79] 연희삼거리 [54/79] 연희초등학교 앞 [55/79] 연희파크푸르지오아파트 앞 [56/79] 이대역 4번 출구 [57/79] 이화여대 인문관 인근 [58/79] 이화여대 후문 [59/79] 일진아이윌아파트 옆 [60/79] 임광빌딩 앞 [61/79] 중앙근린공원 [62/79] 증산2교 [63/79] 증산3교 앞 [64/79] 증산교 앞 [65/79] 충정2교 [66/79] 충정로역 3번 출구 [67/79] 충정로역 7번출구 아래 [68/79] 핀란드 타워앞 [69/79] 해담는다리 [70/79] 홍남교 버스정류장 [71/79] 홍연2교옆 [72/79] 홍은 현대아이파크 아파트 202동 앞 [73/79] 홍은2파출소 옆 [74/79] 홍은도담도서관 [75/79] 홍은동 정원여중 입구 [76/79] 홍은사거리 [77/79] 홍은센트레빌 아파트 앞 [78/79] 홍제교 [79/79] 홍제삼거리 북측 "
     ]
    }
   ],
   "source": [
    "results = {}\n",
    "total = bike_final['대여소명'].nunique()\n",
    "\n",
    "for idx, (name, _df) in enumerate(bike_final.groupby('대여소명'), 1):\n",
    "    print(\"[%d/%d] %s\" %(idx, total, name), end=' ')\n",
    "\n",
    "    try:\n",
    "        X_train, X_test, y_train, y_test = train_test_split(_df[features], _df['이용건수'], test_size=0.2, random_state=42)\n",
    "\n",
    "        param_grid = {\n",
    "        'alpha': [0.1, 1.0, 10],\n",
    "        'normalize': [True, False],\n",
    "        'fit_intercept': [True, False],\n",
    "        }\n",
    "\n",
    "        grid = GridSearchCV(lm.ElasticNet(), cv=5, n_jobs=-1, param_grid=param_grid)\n",
    "        grid = grid.fit(X_train, y_train)\n",
    "\n",
    "        model = grid.best_estimator_\n",
    "        predictions = model.predict(X_test)\n",
    "        mae = mean_absolute_error(y_test, predictions)\n",
    "\n",
    "        results[name] = {}\n",
    "        results[name]['model'] = model\n",
    "        results[name]['mae'] = mae\n",
    "        results[name]['errors'] = predictions - y_test\n",
    "\n",
    "    except:\n",
    "        continue"
   ]
  },
  {
   "cell_type": "code",
   "execution_count": 237,
   "id": "24779a0a",
   "metadata": {},
   "outputs": [
    {
     "name": "stdout",
     "output_type": "stream",
     "text": [
      "1.0786279602524527\n"
     ]
    },
    {
     "name": "stderr",
     "output_type": "stream",
     "text": [
      "C:\\ProgramData\\Anaconda3\\lib\\site-packages\\seaborn\\distributions.py:2557: FutureWarning: `distplot` is a deprecated function and will be removed in a future version. Please adapt your code to use either `displot` (a figure-level function with similar flexibility) or `histplot` (an axes-level function for histograms).\n",
      "  warnings.warn(msg, FutureWarning)\n"
     ]
    },
    {
     "data": {
      "image/png": "[encoded data removed]",
      "text/plain": [
       "<Figure size 1728x360 with 1 Axes>"
      ]
     },
     "metadata": {
      "needs_background": "light"
     },
     "output_type": "display_data"
    }
   ],
   "source": [
    "# 전체 평균 MAE\n",
    "errors = np.array([result['mae'] for result in results.values()])\n",
    "print(errors.mean()) #평균적으로 한 대 정도의 오차가 남.\n",
    "\n",
    "# 전체 MAE 분포\n",
    "plt.figure(figsize=(24, 5))\n",
    "sns.distplot(errors)\n",
    "plt.show()"
   ]
  },
  {
   "cell_type": "markdown",
   "id": "d81f9b91",
   "metadata": {},
   "source": [
    "참고문헌 : https://dailyheumsi.tistory.com/95"
   ]
  }
 ],
 "metadata": {
  "kernelspec": {
   "display_name": "Python 3",
   "language": "python",
   "name": "python3"
  },
  "language_info": {
   "codemirror_mode": {
    "name": "ipython",
    "version": 3
   },
   "file_extension": ".py",
   "mimetype": "text/x-python",
   "name": "python",
   "nbconvert_exporter": "python",
   "pygments_lexer": "ipython3",
   "version": "3.8.8"
  },
  "toc": {
   "base_numbering": 1,
   "nav_menu": {},
   "number_sections": true,
   "sideBar": true,
   "skip_h1_title": false,
   "title_cell": "Table of Contents",
   "title_sidebar": "Contents",
   "toc_cell": false,
   "toc_position": {
    "height": "calc(100% - 180px)",
    "left": "10px",
    "top": "150px",
    "width": "232.825px"
   },
   "toc_section_display": true,
   "toc_window_display": false
  }
 },
 "nbformat": 4,
 "nbformat_minor": 5
}
